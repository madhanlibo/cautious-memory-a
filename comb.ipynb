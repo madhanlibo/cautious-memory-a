{
 "cells": [
  {
   "cell_type": "code",
   "execution_count": 3,
   "id": "7f479c7f",
   "metadata": {},
   "outputs": [],
   "source": [
    "import pandas as pd"
   ]
  },
  {
   "cell_type": "code",
   "execution_count": 7,
   "id": "75ee5cd1",
   "metadata": {},
   "outputs": [],
   "source": [
    "# Load your two CSV files\n",
    "df1 = pd.read_csv(\"attendance.csv\")\n",
    "df2 = pd.read_csv(\"caiphonenos.csv\")\n",
    "\n",
    "# Merge attendance and phone numbers on Register Number\n",
    "merged_clean = pd.merge(\n",
    "    df1, df2,\n",
    "    on=\"Register Number\",\n",
    "    how=\"left\"   # keep all from attendance, match phones if available\n",
    ")\n",
    "\n",
    "# Reorder columns\n",
    "final_columns = [\n",
    "    \"Name\",\n",
    "    \"Register Number\",\n",
    "    \"Parent Contact\",\n",
    "    \"Total Classes\",\n",
    "    \"Attended\",\n",
    "    \"Attendance Percentage\"\n",
    "]\n",
    "merged_clean = merged_clean[final_columns]\n",
    "\n",
    "# Fix datatypes\n",
    "merged_clean[\"Parent Contact\"] = merged_clean[\"Parent Contact\"].fillna(0).astype(\"int64\")\n",
    "merged_clean[\"Total Classes\"] = merged_clean[\"Total Classes\"].fillna(0).astype(int)\n",
    "merged_clean[\"Attended\"] = merged_clean[\"Attended\"].fillna(0).astype(int)\n",
    "merged_clean[\"Attendance Percentage\"] = merged_clean[\"Attendance Percentage\"].round(2)\n",
    "\n",
    "# Save\n",
    "merged_clean.to_csv(\"merged_clean.csv\", index=False)\n"
   ]
  }
 ],
 "metadata": {
  "kernelspec": {
   "display_name": "base",
   "language": "python",
   "name": "python3"
  },
  "language_info": {
   "codemirror_mode": {
    "name": "ipython",
    "version": 3
   },
   "file_extension": ".py",
   "mimetype": "text/x-python",
   "name": "python",
   "nbconvert_exporter": "python",
   "pygments_lexer": "ipython3",
   "version": "3.12.3"
  }
 },
 "nbformat": 4,
 "nbformat_minor": 5
}
